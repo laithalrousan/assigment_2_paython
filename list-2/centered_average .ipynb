{
 "cells": [
  {
   "cell_type": "code",
   "execution_count": null,
   "metadata": {},
   "outputs": [],
   "source": [
    "def centered_average(nums):\n",
    "  count=0 \n",
    "  max1=max(nums)\n",
    "  min1=min(nums)\n",
    "  if len(nums)>=3:\n",
    "    for i in nums :\n",
    "      count=count+i \n",
    "    count=count-max1\n",
    "    count=count-min1\n",
    "    return count/(len(nums)-2)\n",
    "      "
   ]
  }
 ],
 "metadata": {
  "kernelspec": {
   "display_name": "Python 3",
   "language": "python",
   "name": "python3"
  },
  "language_info": {
   "codemirror_mode": {
    "name": "ipython",
    "version": 3
   },
   "file_extension": ".py",
   "mimetype": "text/x-python",
   "name": "python",
   "nbconvert_exporter": "python",
   "pygments_lexer": "ipython3",
   "version": "3.6.5"
  }
 },
 "nbformat": 4,
 "nbformat_minor": 2
}
