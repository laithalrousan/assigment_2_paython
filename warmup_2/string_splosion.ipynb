{
 "cells": [
  {
   "cell_type": "code",
   "execution_count": null,
   "metadata": {},
   "outputs": [],
   "source": [
    "\n",
    "      def string_splosion(str):\n",
    "  if len(str)==4 : \n",
    "    return str[0]*2 + str[1] +str[0:3] + str\n",
    "  elif len(str)==3:\n",
    "    return str[0]*2 + str[1] +str\n",
    "  elif len(str)==2:\n",
    "    return str[0] + str  \n",
    "  elif len(str)==1  :\n",
    "    return str\n",
    "  elif len(str)==5:\n",
    "    return str[0]*2 + str[1] + str[0:3] +str[0:4] +str \n",
    "  elif len(str)==6:\n",
    "    return str[0]*2 + str[1] + str[0:3] +str[0:4] +str[0:5] +str \n"
   ]
  }
 ],
 "metadata": {
  "kernelspec": {
   "display_name": "Python 3",
   "language": "python",
   "name": "python3"
  },
  "language_info": {
   "codemirror_mode": {
    "name": "ipython",
    "version": 3
   },
   "file_extension": ".py",
   "mimetype": "text/x-python",
   "name": "python",
   "nbconvert_exporter": "python",
   "pygments_lexer": "ipython3",
   "version": "3.6.5"
  }
 },
 "nbformat": 4,
 "nbformat_minor": 2
}
