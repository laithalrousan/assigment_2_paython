{
 "cells": [
  {
   "cell_type": "code",
   "execution_count": null,
   "metadata": {},
   "outputs": [],
   "source": [
    "def lone_sum(a, b, c):\n",
    "   count=0 \n",
    "   if a!=b and a!=c and b!=c:\n",
    "     count=a+b+c\n",
    "   elif a==b and a!=c:\n",
    "     count=c\n",
    "   elif a==c and a!=b:\n",
    "     count=b\n",
    "   elif c==b and c!=a:\n",
    "     count=a \n",
    "   elif c==a and c!=b:\n",
    "     count=b\n",
    "   elif b==c and b!=a:\n",
    "     count=a\n",
    "   elif b==a and b!=c:\n",
    "     count=c\n",
    "   else :\n",
    "     count=0 \n",
    "   return count\n"
   ]
  }
 ],
 "metadata": {
  "kernelspec": {
   "display_name": "Python 3",
   "language": "python",
   "name": "python3"
  },
  "language_info": {
   "codemirror_mode": {
    "name": "ipython",
    "version": 3
   },
   "file_extension": ".py",
   "mimetype": "text/x-python",
   "name": "python",
   "nbconvert_exporter": "python",
   "pygments_lexer": "ipython3",
   "version": "3.6.5"
  }
 },
 "nbformat": 4,
 "nbformat_minor": 2
}
