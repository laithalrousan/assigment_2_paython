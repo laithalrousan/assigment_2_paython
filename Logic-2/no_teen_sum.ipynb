{
 "cells": [
  {
   "cell_type": "code",
   "execution_count": null,
   "metadata": {},
   "outputs": [],
   "source": [
    "def no_teen_sum(a, b, c):\n",
    "  count=0 \n",
    "  count=fix_teen(a)+fix_teen(b)+fix_teen(c)\n",
    "  return count\n",
    "  \n",
    "def fix_teen(n):\n",
    "  if(n>=13 and n<=19 ):\n",
    "    if (n==15 or n==16):\n",
    "      return n \n",
    "    else :\n",
    "      return 0 \n",
    "  else:\n",
    "    return n"
   ]
  }
 ],
 "metadata": {
  "kernelspec": {
   "display_name": "Python 3",
   "language": "python",
   "name": "python3"
  },
  "language_info": {
   "codemirror_mode": {
    "name": "ipython",
    "version": 3
   },
   "file_extension": ".py",
   "mimetype": "text/x-python",
   "name": "python",
   "nbconvert_exporter": "python",
   "pygments_lexer": "ipython3",
   "version": "3.6.5"
  }
 },
 "nbformat": 4,
 "nbformat_minor": 2
}
