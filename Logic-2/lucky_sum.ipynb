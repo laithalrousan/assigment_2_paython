{
 "cells": [
  {
   "cell_type": "code",
   "execution_count": null,
   "metadata": {},
   "outputs": [],
   "source": [
    "def lucky_sum(a, b, c):\n",
    "  if(a!=13 and b!=13 and c!=13 ):\n",
    "    return a+b+c\n",
    "  elif(a!=13 and b!=13 and c==13):\n",
    "    return a+b\n",
    "  elif(a!=13 and b==13 and c!=13):\n",
    "    return a\n",
    "  elif(a!=13 and b==13 and c==13):\n",
    "    return a\n",
    "  elif(a==13 ):\n",
    "    return 0\n",
    "\n"
   ]
  }
 ],
 "metadata": {
  "kernelspec": {
   "display_name": "Python 3",
   "language": "python",
   "name": "python3"
  },
  "language_info": {
   "codemirror_mode": {
    "name": "ipython",
    "version": 3
   },
   "file_extension": ".py",
   "mimetype": "text/x-python",
   "name": "python",
   "nbconvert_exporter": "python",
   "pygments_lexer": "ipython3",
   "version": "3.6.5"
  }
 },
 "nbformat": 4,
 "nbformat_minor": 2
}
